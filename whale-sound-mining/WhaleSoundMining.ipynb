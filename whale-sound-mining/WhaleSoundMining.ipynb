{
 "cells": [
  {
   "cell_type": "markdown",
   "metadata": {},
   "source": [
    "In this tutorial we will explore some data which contains right whale calls. It was shared as part of a [2013 Kaggle competition](https://www.kaggle.com/c/whale-detection-challenge). Our goal is not to show the best winning algorithm to detect call, but share a simple pipeline for processing oscillatory data.\n",
    "\n",
    "Objectives:\n",
    "* read and extract features form audio data\n",
    "* apply dimensionality reduction techinques\n",
    "* unsupervised clustering \n",
    "* supervised classification\n"
   ]
  },
  {
   "cell_type": "code",
   "execution_count": 1,
   "metadata": {
    "collapsed": true
   },
   "outputs": [],
   "source": [
    "# importing multiple visualization libraries\n",
    "%matplotlib inline\n",
    "\n",
    "import numpy as np\n",
    "import matplotlib.pyplot as plt\n",
    "from matplotlib import mlab\n",
    "import pylab as pl"
   ]
  },
  {
   "cell_type": "code",
   "execution_count": 3,
   "metadata": {
    "collapsed": true
   },
   "outputs": [],
   "source": [
    "# importing libraries to manipulate the data files\n",
    "import os\n",
    "from glob import glob"
   ]
  },
  {
   "cell_type": "code",
   "execution_count": 15,
   "metadata": {
    "collapsed": true
   },
   "outputs": [],
   "source": [
    "import aifc"
   ]
  },
  {
   "cell_type": "code",
   "execution_count": 17,
   "metadata": {},
   "outputs": [],
   "source": [
    "from scipy.fftpack import rfft"
   ]
  },
  {
   "cell_type": "markdown",
   "metadata": {
    "collapsed": true
   },
   "source": [
    "The `train` folder contains many `.aiff` files and a `.csv` document which contains the corresponding labels. "
   ]
  },
  {
   "cell_type": "code",
   "execution_count": 18,
   "metadata": {
    "collapsed": true
   },
   "outputs": [],
   "source": [
    "train_filenames = glob(os.path.join('whale_data','train','*.aiff'))"
   ]
  },
  {
   "cell_type": "code",
   "execution_count": 19,
   "metadata": {},
   "outputs": [
    {
     "name": "stdout",
     "output_type": "stream",
     "text": [
      "There are 30000 files.\n"
     ]
    }
   ],
   "source": [
    "print('There are '+str(len(train_filenames))+' files.' )"
   ]
  },
  {
   "cell_type": "code",
   "execution_count": 20,
   "metadata": {
    "collapsed": true
   },
   "outputs": [],
   "source": [
    "# read the labels\n",
    "import pandas as pd\n",
    "labels = pd.read_csv(os.path.join('whale_data','train.csv'), index_col = 0)"
   ]
  },
  {
   "cell_type": "code",
   "execution_count": 21,
   "metadata": {},
   "outputs": [
    {
     "name": "stdout",
     "output_type": "stream",
     "text": [
      "Index(['train6.aiff', 'train7.aiff', 'train9.aiff', 'train12.aiff',\n",
      "       'train28.aiff', 'train31.aiff', 'train32.aiff', 'train55.aiff',\n",
      "       'train64.aiff', 'train73.aiff',\n",
      "       ...\n",
      "       'train29967.aiff', 'train29968.aiff', 'train29969.aiff',\n",
      "       'train29970.aiff', 'train29971.aiff', 'train29972.aiff',\n",
      "       'train29980.aiff', 'train29981.aiff', 'train29991.aiff',\n",
      "       'train29992.aiff'],\n",
      "      dtype='object', name='clip_name', length=7027)\n"
     ]
    }
   ],
   "source": [
    "# names of files which contain aiff\n",
    "print(labels[labels['label'] == 1].index)"
   ]
  },
  {
   "cell_type": "code",
   "execution_count": 22,
   "metadata": {},
   "outputs": [],
   "source": [
    "whale_labels = labels[labels['label'] == 1].index"
   ]
  },
  {
   "cell_type": "code",
   "execution_count": 23,
   "metadata": {},
   "outputs": [
    {
     "data": {
      "text/plain": [
       "'train6.aiff'"
      ]
     },
     "execution_count": 23,
     "metadata": {},
     "output_type": "execute_result"
    }
   ],
   "source": [
    "whale_labels[0]"
   ]
  },
  {
   "cell_type": "code",
   "execution_count": null,
   "metadata": {
    "collapsed": true
   },
   "outputs": [],
   "source": []
  },
  {
   "cell_type": "code",
   "execution_count": 24,
   "metadata": {},
   "outputs": [
    {
     "name": "stdout",
     "output_type": "stream",
     "text": [
      "Channels: 1\n",
      "Frames: 4000\n",
      "Frame rate (frames per second): 2000\n"
     ]
    }
   ],
   "source": [
    "whale_sample_file = whale_labels[600] \n",
    "whale_aiff = aifc.open(os.path.join('whale_data','train',whale_sample_file),'r')\n",
    "print (\"Channels:\", whale_aiff.getnchannels()) \n",
    "print (\"Frames:\", whale_aiff.getnframes() )\n",
    "print (\"Frame rate (frames per second):\", whale_aiff.getframerate())"
   ]
  },
  {
   "cell_type": "markdown",
   "metadata": {},
   "source": [
    "Working directly with Let's calculate the spectrogram for each of them."
   ]
  },
  {
   "cell_type": "code",
   "execution_count": 25,
   "metadata": {
    "collapsed": true
   },
   "outputs": [],
   "source": [
    "def PlotSpecgram(P, freqs, bins):\n",
    "    \"\"\"Spectrogram\"\"\"\n",
    "    Z = np.flipud(P) # flip rows so that top goes to bottom, bottom to top, etc.\n",
    "    xextent = 0, np.amax(bins)\n",
    "    xmin, xmax = xextent\n",
    "    extent = xmin, xmax, freqs[0], freqs[-1]\n",
    "\n",
    "    im = pl.imshow(Z, extent=extent)\n",
    "    pl.axis('auto')\n",
    "    pl.xlim([0.0, bins[-1]])\n",
    "    pl.ylim([0, 1000])"
   ]
  },
  {
   "cell_type": "code",
   "execution_count": null,
   "metadata": {
    "collapsed": true
   },
   "outputs": [],
   "source": []
  },
  {
   "cell_type": "code",
   "execution_count": 26,
   "metadata": {},
   "outputs": [
    {
     "data": {
      "image/png": "[encoded data removed]",
      "text/plain": [
       "<matplotlib.figure.Figure at 0x7feb28f8eb38>"
      ]
     },
     "metadata": {},
     "output_type": "display_data"
    }
   ],
   "source": [
    "whale_strSig = whale_aiff.readframes(whale_aiff.getnframes())\n",
    "whale_array = np.fromstring(whale_strSig, np.short).byteswap()\n",
    "params = {'NFFT':256, 'Fs':2000, 'noverlap':192}\n",
    "P, freqs, bins = mlab.specgram(whale_array, **params)\n",
    "PlotSpecgram(P, freqs, bins)"
   ]
  },
  {
   "cell_type": "code",
   "execution_count": 27,
   "metadata": {},
   "outputs": [
    {
     "data": {
      "text/plain": [
       "(129, 59)"
      ]
     },
     "execution_count": 27,
     "metadata": {},
     "output_type": "execute_result"
    }
   ],
   "source": [
    "P.shape"
   ]
  },
  {
   "cell_type": "code",
   "execution_count": 28,
   "metadata": {
    "collapsed": true
   },
   "outputs": [],
   "source": [
    "# let's calculate all spectrograms"
   ]
  },
  {
   "cell_type": "code",
   "execution_count": 29,
   "metadata": {
    "collapsed": true
   },
   "outputs": [],
   "source": [
    "# create a dictionary which contains all the spectrograms\n",
    "spec_dict = {}"
   ]
  },
  {
   "cell_type": "code",
   "execution_count": 30,
   "metadata": {
    "collapsed": true
   },
   "outputs": [],
   "source": [
    "for filename in train_filenames:\n",
    "    aiff = aifc.open(filename,'r')\n",
    "    whale_strSig = aiff.readframes(aiff.getnframes())\n",
    "    whale_array = np.fromstring(whale_strSig, np.short).byteswap()\n",
    "    P, freqs, bins = mlab.specgram(whale_array, **params)\n",
    "    spec_dict[filename] = P[:60,:]\n",
    "    \n",
    "    "
   ]
  },
  {
   "cell_type": "code",
   "execution_count": null,
   "metadata": {
    "collapsed": true
   },
   "outputs": [],
   "source": []
  },
  {
   "cell_type": "code",
   "execution_count": 31,
   "metadata": {
    "collapsed": true
   },
   "outputs": [],
   "source": [
    "# they are all same length I think"
   ]
  },
  {
   "cell_type": "code",
   "execution_count": 32,
   "metadata": {
    "collapsed": true
   },
   "outputs": [],
   "source": [
    "# let's put them in standard features x samples format"
   ]
  },
  {
   "cell_type": "code",
   "execution_count": 40,
   "metadata": {
    "collapsed": true
   },
   "outputs": [],
   "source": [
    "feature_dict = {}"
   ]
  },
  {
   "cell_type": "code",
   "execution_count": 41,
   "metadata": {
    "collapsed": true
   },
   "outputs": [],
   "source": [
    "#for key in spec_dict:\n",
    "#    feature_dict[key] = spec_dict[key].ravel()"
   ]
  },
  {
   "cell_type": "code",
   "execution_count": 42,
   "metadata": {},
   "outputs": [
    {
     "ename": "NameError",
     "evalue": "name 'spec_dict' is not defined",
     "output_type": "error",
     "traceback": [
      "\u001b[1;31m---------------------------------------------------------------------------\u001b[0m",
      "\u001b[1;31mNameError\u001b[0m                                 Traceback (most recent call last)",
      "\u001b[1;32m<ipython-input-42-a0af8e50db11>\u001b[0m in \u001b[0;36m<module>\u001b[1;34m()\u001b[0m\n\u001b[0;32m      1\u001b[0m \u001b[1;31m# The key below depends on the directory structure\u001b[0m\u001b[1;33m\u001b[0m\u001b[1;33m\u001b[0m\u001b[0m\n\u001b[0;32m      2\u001b[0m \u001b[1;32mfor\u001b[0m \u001b[0mkey\u001b[0m \u001b[1;32min\u001b[0m \u001b[0mtrain_filenames\u001b[0m\u001b[1;33m:\u001b[0m\u001b[1;33m\u001b[0m\u001b[0m\n\u001b[1;32m----> 3\u001b[1;33m     \u001b[0mfeature_dict\u001b[0m\u001b[1;33m[\u001b[0m\u001b[0mkey\u001b[0m\u001b[1;33m[\u001b[0m\u001b[1;36m17\u001b[0m\u001b[1;33m:\u001b[0m\u001b[1;33m]\u001b[0m\u001b[1;33m]\u001b[0m \u001b[1;33m=\u001b[0m \u001b[0mspec_dict\u001b[0m\u001b[1;33m[\u001b[0m\u001b[0mkey\u001b[0m\u001b[1;33m]\u001b[0m\u001b[1;33m.\u001b[0m\u001b[0mravel\u001b[0m\u001b[1;33m(\u001b[0m\u001b[1;33m)\u001b[0m\u001b[1;33m\u001b[0m\u001b[0m\n\u001b[0m",
      "\u001b[1;31mNameError\u001b[0m: name 'spec_dict' is not defined"
     ]
    }
   ],
   "source": [
    "# The key below depends on the directory structure\n",
    "for key in train_filenames:\n",
    "    feature_dict[key[17:]] = spec_dict[key].ravel()"
   ]
  },
  {
   "cell_type": "code",
   "execution_count": 36,
   "metadata": {
    "collapsed": true
   },
   "outputs": [],
   "source": [
    "X = pd.DataFrame(feature_dict)"
   ]
  },
  {
   "cell_type": "code",
   "execution_count": 37,
   "metadata": {
    "collapsed": true
   },
   "outputs": [],
   "source": [
    "#del feature_dict\n",
    "del spec_dict"
   ]
  },
  {
   "cell_type": "code",
   "execution_count": 66,
   "metadata": {},
   "outputs": [
    {
     "data": {
      "text/plain": [
       "(3540, 30000)"
      ]
     },
     "execution_count": 66,
     "metadata": {},
     "output_type": "execute_result"
    }
   ],
   "source": [
    "X.shape"
   ]
  },
  {
   "cell_type": "code",
   "execution_count": 67,
   "metadata": {},
   "outputs": [
    {
     "data": {
      "text/plain": [
       "'train1.aiff'"
      ]
     },
     "execution_count": 67,
     "metadata": {},
     "output_type": "execute_result"
    }
   ],
   "source": [
    "X.columns[0]"
   ]
  },
  {
   "cell_type": "code",
   "execution_count": null,
   "metadata": {},
   "outputs": [],
   "source": []
  },
  {
   "cell_type": "code",
   "execution_count": 43,
   "metadata": {},
   "outputs": [
    {
     "data": {
      "text/plain": [
       "(30000, 3540)"
      ]
     },
     "execution_count": 43,
     "metadata": {},
     "output_type": "execute_result"
    }
   ],
   "source": [
    "X.iloc[:20000,:].T.shape"
   ]
  },
  {
   "cell_type": "code",
   "execution_count": 44,
   "metadata": {
    "collapsed": true
   },
   "outputs": [],
   "source": [
    "# perform PCA & ICA"
   ]
  },
  {
   "cell_type": "code",
   "execution_count": 45,
   "metadata": {
    "collapsed": true
   },
   "outputs": [],
   "source": [
    "from sklearn.decomposition import PCA\n",
    "pca = PCA(n_components=30,copy=False)\n",
    "X_transformed = pca.fit_transform(X.iloc[:,:20000].T)"
   ]
  },
  {
   "cell_type": "code",
   "execution_count": null,
   "metadata": {
    "collapsed": true
   },
   "outputs": [],
   "source": [
    "X_transformed.shape"
   ]
  },
  {
   "cell_type": "code",
   "execution_count": null,
   "metadata": {
    "collapsed": true
   },
   "outputs": [],
   "source": [
    "print(pca.explained_variance_ratio_)\n",
    "plt.plot(pca.singular_values_)"
   ]
  },
  {
   "cell_type": "code",
   "execution_count": null,
   "metadata": {
    "collapsed": true
   },
   "outputs": [],
   "source": [
    "plt.imshow(X_transformed[:,20].reshape(129,59).T)"
   ]
  },
  {
   "cell_type": "code",
   "execution_count": null,
   "metadata": {
    "collapsed": true
   },
   "outputs": [],
   "source": [
    "from sklearn.decomposition import FastICA\n",
    "ica = FastICA(n_components=5)\n",
    "X_transformed = ica.fit(X).transform(X)"
   ]
  },
  {
   "cell_type": "code",
   "execution_count": null,
   "metadata": {
    "collapsed": true
   },
   "outputs": [],
   "source": [
    "plt.imshow(X_transformed[:,0].reshape(129,59).T)"
   ]
  },
  {
   "cell_type": "code",
   "execution_count": null,
   "metadata": {
    "collapsed": true
   },
   "outputs": [],
   "source": [
    "# Unsupervised Learning\n",
    "# I can try to cluster them and plot them with labels "
   ]
  },
  {
   "cell_type": "code",
   "execution_count": null,
   "metadata": {
    "collapsed": true
   },
   "outputs": [],
   "source": [
    "from sklearn.cluster import KMeans"
   ]
  },
  {
   "cell_type": "code",
   "execution_count": null,
   "metadata": {
    "collapsed": true
   },
   "outputs": [],
   "source": []
  },
  {
   "cell_type": "code",
   "execution_count": 72,
   "metadata": {},
   "outputs": [
    {
     "ename": "NameError",
     "evalue": "name 'KMeans' is not defined",
     "output_type": "error",
     "traceback": [
      "\u001b[1;31m---------------------------------------------------------------------------\u001b[0m",
      "\u001b[1;31mNameError\u001b[0m                                 Traceback (most recent call last)",
      "\u001b[1;32m<ipython-input-72-e864266b4048>\u001b[0m in \u001b[0;36m<module>\u001b[1;34m()\u001b[0m\n\u001b[1;32m----> 1\u001b[1;33m \u001b[0mkmeans\u001b[0m \u001b[1;33m=\u001b[0m \u001b[0mKMeans\u001b[0m\u001b[1;33m(\u001b[0m\u001b[0mn_clusters\u001b[0m\u001b[1;33m=\u001b[0m\u001b[1;36m2\u001b[0m\u001b[1;33m,\u001b[0m \u001b[0mrandom_state\u001b[0m\u001b[1;33m=\u001b[0m\u001b[1;36m0\u001b[0m\u001b[1;33m)\u001b[0m\u001b[1;33m.\u001b[0m\u001b[0mfit\u001b[0m\u001b[1;33m(\u001b[0m\u001b[0mX_transformed\u001b[0m\u001b[1;33m)\u001b[0m\u001b[1;33m\u001b[0m\u001b[0m\n\u001b[0m",
      "\u001b[1;31mNameError\u001b[0m: name 'KMeans' is not defined"
     ]
    }
   ],
   "source": [
    "kmeans = KMeans(n_clusters=2, random_state=0).fit(X_transformed)"
   ]
  },
  {
   "cell_type": "code",
   "execution_count": null,
   "metadata": {
    "collapsed": true
   },
   "outputs": [],
   "source": [
    "labels['label'][X.columns]"
   ]
  },
  {
   "cell_type": "code",
   "execution_count": null,
   "metadata": {
    "collapsed": true
   },
   "outputs": [],
   "source": [
    "kmeans.labels_"
   ]
  },
  {
   "cell_type": "code",
   "execution_count": null,
   "metadata": {
    "collapsed": true
   },
   "outputs": [],
   "source": [
    "(labels['label'] - (1 - kmeans.labels_))"
   ]
  },
  {
   "cell_type": "code",
   "execution_count": null,
   "metadata": {
    "collapsed": true
   },
   "outputs": [],
   "source": [
    "kmeans.labels_.shape"
   ]
  },
  {
   "cell_type": "code",
   "execution_count": null,
   "metadata": {
    "collapsed": true
   },
   "outputs": [],
   "source": [
    "X_transformed.shape"
   ]
  },
  {
   "cell_type": "code",
   "execution_count": null,
   "metadata": {
    "collapsed": true
   },
   "outputs": [],
   "source": [
    "plt.scatter(X_transformed[:,0],X_transformed[:,1],[],kmeans.labels_)"
   ]
  },
  {
   "cell_type": "code",
   "execution_count": null,
   "metadata": {
    "collapsed": true
   },
   "outputs": [],
   "source": [
    "X_transformed.shape"
   ]
  },
  {
   "cell_type": "code",
   "execution_count": null,
   "metadata": {
    "collapsed": true
   },
   "outputs": [],
   "source": [
    "X.max()"
   ]
  },
  {
   "cell_type": "markdown",
   "metadata": {
    "collapsed": true
   },
   "source": [
    "### Supervised Prediction"
   ]
  },
  {
   "cell_type": "code",
   "execution_count": null,
   "metadata": {
    "collapsed": true
   },
   "outputs": [],
   "source": [
    "Y = X.as_matrix().astype(np.float)"
   ]
  },
  {
   "cell_type": "code",
   "execution_count": 46,
   "metadata": {
    "collapsed": true
   },
   "outputs": [],
   "source": [
    "from sklearn.ensemble import RandomForestClassifier"
   ]
  },
  {
   "cell_type": "code",
   "execution_count": 47,
   "metadata": {},
   "outputs": [
    {
     "data": {
      "text/html": [
       "<div>\n",
       "<style scoped>\n",
       "    .dataframe tbody tr th:only-of-type {\n",
       "        vertical-align: middle;\n",
       "    }\n",
       "\n",
       "    .dataframe tbody tr th {\n",
       "        vertical-align: top;\n",
       "    }\n",
       "\n",
       "    .dataframe thead th {\n",
       "        text-align: right;\n",
       "    }\n",
       "</style>\n",
       "<table border=\"1\" class=\"dataframe\">\n",
       "  <thead>\n",
       "    <tr style=\"text-align: right;\">\n",
       "      <th></th>\n",
       "      <th>train1.aiff</th>\n",
       "      <th>train10.aiff</th>\n",
       "      <th>train100.aiff</th>\n",
       "      <th>train1000.aiff</th>\n",
       "      <th>train10000.aiff</th>\n",
       "      <th>train10001.aiff</th>\n",
       "      <th>train10002.aiff</th>\n",
       "      <th>train10003.aiff</th>\n",
       "      <th>train10004.aiff</th>\n",
       "      <th>train10005.aiff</th>\n",
       "      <th>...</th>\n",
       "      <th>train9990.aiff</th>\n",
       "      <th>train9991.aiff</th>\n",
       "      <th>train9992.aiff</th>\n",
       "      <th>train9993.aiff</th>\n",
       "      <th>train9994.aiff</th>\n",
       "      <th>train9995.aiff</th>\n",
       "      <th>train9996.aiff</th>\n",
       "      <th>train9997.aiff</th>\n",
       "      <th>train9998.aiff</th>\n",
       "      <th>train9999.aiff</th>\n",
       "    </tr>\n",
       "  </thead>\n",
       "  <tbody>\n",
       "    <tr>\n",
       "      <th>0</th>\n",
       "      <td>-3.810013</td>\n",
       "      <td>-3.842712</td>\n",
       "      <td>-3.784397</td>\n",
       "      <td>-3.837424</td>\n",
       "      <td>-3.839975</td>\n",
       "      <td>-3.897497</td>\n",
       "      <td>-3.303040</td>\n",
       "      <td>-3.820926</td>\n",
       "      <td>-3.833590</td>\n",
       "      <td>-3.838876</td>\n",
       "      <td>...</td>\n",
       "      <td>0.045872</td>\n",
       "      <td>0.133007</td>\n",
       "      <td>0.141928</td>\n",
       "      <td>0.106960</td>\n",
       "      <td>0.046729</td>\n",
       "      <td>0.155241</td>\n",
       "      <td>0.187832</td>\n",
       "      <td>0.011585</td>\n",
       "      <td>0.061082</td>\n",
       "      <td>0.097990</td>\n",
       "    </tr>\n",
       "    <tr>\n",
       "      <th>1</th>\n",
       "      <td>-4.042564</td>\n",
       "      <td>-4.009494</td>\n",
       "      <td>-4.105573</td>\n",
       "      <td>-4.003871</td>\n",
       "      <td>-4.016084</td>\n",
       "      <td>-3.986620</td>\n",
       "      <td>-4.002104</td>\n",
       "      <td>-4.050279</td>\n",
       "      <td>-3.899766</td>\n",
       "      <td>-4.006726</td>\n",
       "      <td>...</td>\n",
       "      <td>0.132012</td>\n",
       "      <td>0.106819</td>\n",
       "      <td>0.086542</td>\n",
       "      <td>0.114405</td>\n",
       "      <td>0.098374</td>\n",
       "      <td>0.028129</td>\n",
       "      <td>0.001372</td>\n",
       "      <td>0.003876</td>\n",
       "      <td>0.095292</td>\n",
       "      <td>0.113787</td>\n",
       "    </tr>\n",
       "    <tr>\n",
       "      <th>2</th>\n",
       "      <td>-7.347830</td>\n",
       "      <td>-7.339269</td>\n",
       "      <td>-7.392951</td>\n",
       "      <td>-7.333550</td>\n",
       "      <td>-7.353221</td>\n",
       "      <td>-7.386494</td>\n",
       "      <td>-7.452062</td>\n",
       "      <td>-7.350787</td>\n",
       "      <td>-7.409601</td>\n",
       "      <td>-7.359816</td>\n",
       "      <td>...</td>\n",
       "      <td>0.086293</td>\n",
       "      <td>0.061886</td>\n",
       "      <td>0.064891</td>\n",
       "      <td>0.148604</td>\n",
       "      <td>0.093653</td>\n",
       "      <td>0.065195</td>\n",
       "      <td>0.079974</td>\n",
       "      <td>0.002283</td>\n",
       "      <td>0.166256</td>\n",
       "      <td>0.140293</td>\n",
       "    </tr>\n",
       "    <tr>\n",
       "      <th>3</th>\n",
       "      <td>-5.642751</td>\n",
       "      <td>-5.620791</td>\n",
       "      <td>-5.634692</td>\n",
       "      <td>-5.608343</td>\n",
       "      <td>-5.620007</td>\n",
       "      <td>-5.679055</td>\n",
       "      <td>-5.672845</td>\n",
       "      <td>-5.599222</td>\n",
       "      <td>-5.678070</td>\n",
       "      <td>-5.631417</td>\n",
       "      <td>...</td>\n",
       "      <td>0.060814</td>\n",
       "      <td>0.139928</td>\n",
       "      <td>0.124817</td>\n",
       "      <td>0.165656</td>\n",
       "      <td>0.100718</td>\n",
       "      <td>0.058060</td>\n",
       "      <td>0.190541</td>\n",
       "      <td>0.006882</td>\n",
       "      <td>0.088204</td>\n",
       "      <td>0.093512</td>\n",
       "    </tr>\n",
       "    <tr>\n",
       "      <th>4</th>\n",
       "      <td>-3.437128</td>\n",
       "      <td>-3.471923</td>\n",
       "      <td>-3.464543</td>\n",
       "      <td>-3.479506</td>\n",
       "      <td>-3.479659</td>\n",
       "      <td>-3.379245</td>\n",
       "      <td>-3.472660</td>\n",
       "      <td>-2.770801</td>\n",
       "      <td>-3.425605</td>\n",
       "      <td>-3.472556</td>\n",
       "      <td>...</td>\n",
       "      <td>0.185666</td>\n",
       "      <td>0.124454</td>\n",
       "      <td>0.069517</td>\n",
       "      <td>0.063975</td>\n",
       "      <td>0.117573</td>\n",
       "      <td>0.131793</td>\n",
       "      <td>0.107354</td>\n",
       "      <td>0.173088</td>\n",
       "      <td>0.138021</td>\n",
       "      <td>0.154029</td>\n",
       "    </tr>\n",
       "  </tbody>\n",
       "</table>\n",
       "<p>5 rows × 30000 columns</p>\n",
       "</div>"
      ],
      "text/plain": [
       "   train1.aiff  train10.aiff  train100.aiff  train1000.aiff  train10000.aiff  \\\n",
       "0    -3.810013     -3.842712      -3.784397       -3.837424        -3.839975   \n",
       "1    -4.042564     -4.009494      -4.105573       -4.003871        -4.016084   \n",
       "2    -7.347830     -7.339269      -7.392951       -7.333550        -7.353221   \n",
       "3    -5.642751     -5.620791      -5.634692       -5.608343        -5.620007   \n",
       "4    -3.437128     -3.471923      -3.464543       -3.479506        -3.479659   \n",
       "\n",
       "   train10001.aiff  train10002.aiff  train10003.aiff  train10004.aiff  \\\n",
       "0        -3.897497        -3.303040        -3.820926        -3.833590   \n",
       "1        -3.986620        -4.002104        -4.050279        -3.899766   \n",
       "2        -7.386494        -7.452062        -7.350787        -7.409601   \n",
       "3        -5.679055        -5.672845        -5.599222        -5.678070   \n",
       "4        -3.379245        -3.472660        -2.770801        -3.425605   \n",
       "\n",
       "   train10005.aiff       ...        train9990.aiff  train9991.aiff  \\\n",
       "0        -3.838876       ...              0.045872        0.133007   \n",
       "1        -4.006726       ...              0.132012        0.106819   \n",
       "2        -7.359816       ...              0.086293        0.061886   \n",
       "3        -5.631417       ...              0.060814        0.139928   \n",
       "4        -3.472556       ...              0.185666        0.124454   \n",
       "\n",
       "   train9992.aiff  train9993.aiff  train9994.aiff  train9995.aiff  \\\n",
       "0        0.141928        0.106960        0.046729        0.155241   \n",
       "1        0.086542        0.114405        0.098374        0.028129   \n",
       "2        0.064891        0.148604        0.093653        0.065195   \n",
       "3        0.124817        0.165656        0.100718        0.058060   \n",
       "4        0.069517        0.063975        0.117573        0.131793   \n",
       "\n",
       "   train9996.aiff  train9997.aiff  train9998.aiff  train9999.aiff  \n",
       "0        0.187832        0.011585        0.061082        0.097990  \n",
       "1        0.001372        0.003876        0.095292        0.113787  \n",
       "2        0.079974        0.002283        0.166256        0.140293  \n",
       "3        0.190541        0.006882        0.088204        0.093512  \n",
       "4        0.107354        0.173088        0.138021        0.154029  \n",
       "\n",
       "[5 rows x 30000 columns]"
      ]
     },
     "execution_count": 47,
     "metadata": {},
     "output_type": "execute_result"
    }
   ],
   "source": [
    "X.head()"
   ]
  },
  {
   "cell_type": "code",
   "execution_count": null,
   "metadata": {
    "collapsed": true
   },
   "outputs": [],
   "source": []
  },
  {
   "cell_type": "code",
   "execution_count": null,
   "metadata": {
    "collapsed": true
   },
   "outputs": [],
   "source": []
  },
  {
   "cell_type": "code",
   "execution_count": 75,
   "metadata": {},
   "outputs": [
    {
     "data": {
      "text/plain": [
       "RandomForestClassifier(bootstrap=True, class_weight=None, criterion='gini',\n",
       "            max_depth=10, max_features='auto', max_leaf_nodes=None,\n",
       "            min_impurity_decrease=0.0, min_impurity_split=None,\n",
       "            min_samples_leaf=1, min_samples_split=2,\n",
       "            min_weight_fraction_leaf=0.0, n_estimators=10, n_jobs=1,\n",
       "            oob_score=False, random_state=0, verbose=0, warm_start=False)"
      ]
     },
     "execution_count": 75,
     "metadata": {},
     "output_type": "execute_result"
    }
   ],
   "source": [
    "clf = RandomForestClassifier(max_depth=10, random_state=0)\n",
    "clf.fit(X.T.iloc[:15000,:], np.array(labels['label'][X.columns][:15000]))"
   ]
  },
  {
   "cell_type": "code",
   "execution_count": 76,
   "metadata": {},
   "outputs": [
    {
     "name": "stdout",
     "output_type": "stream",
     "text": [
      "Accuracy on the test dataset is 0.7918\n"
     ]
    }
   ],
   "source": [
    "# prediction on the testing dataset\n",
    "test_accuracy = 1 - np.sum(np.abs(clf.predict(X.T.iloc[15000:,:])-labels['label'][X.columns][15000:]))/15000.\n",
    "print('Accuracy on the test dataset is '+ str(test_accuracy))"
   ]
  },
  {
   "cell_type": "code",
   "execution_count": 77,
   "metadata": {},
   "outputs": [
    {
     "data": {
      "text/plain": [
       "(20000, 30)"
      ]
     },
     "execution_count": 77,
     "metadata": {},
     "output_type": "execute_result"
    }
   ],
   "source": [
    "X_transformed.shape"
   ]
  },
  {
   "cell_type": "code",
   "execution_count": 78,
   "metadata": {},
   "outputs": [
    {
     "data": {
      "text/plain": [
       "3313"
      ]
     },
     "execution_count": 78,
     "metadata": {},
     "output_type": "execute_result"
    }
   ],
   "source": [
    "np.sum(np.array(labels['label'][:15000]))"
   ]
  },
  {
   "cell_type": "markdown",
   "metadata": {
    "collapsed": true
   },
   "source": [
    "How should we evaluate performance? First let's look at the accuracy on the train dataset: it better be good.\n"
   ]
  },
  {
   "cell_type": "code",
   "execution_count": 79,
   "metadata": {},
   "outputs": [
    {
     "name": "stdout",
     "output_type": "stream",
     "text": [
      "Accuracy on the train dataset is 0.958333333333\n"
     ]
    }
   ],
   "source": [
    "# prediction on the training dataset\n",
    "train_accuracy = 1 - np.sum(np.abs(clf.predict(X.T.iloc[:15000,:]) - labels['label'][X.columns][:15000]))/15000.\n",
    "print('Accuracy on the train dataset is '+ str(train_accuracy))"
   ]
  },
  {
   "cell_type": "code",
   "execution_count": null,
   "metadata": {},
   "outputs": [],
   "source": []
  },
  {
   "cell_type": "code",
   "execution_count": 80,
   "metadata": {},
   "outputs": [
    {
     "data": {
      "text/plain": [
       "7027"
      ]
     },
     "execution_count": 80,
     "metadata": {},
     "output_type": "execute_result"
    }
   ],
   "source": [
    "np.array(labels['label']).sum()"
   ]
  },
  {
   "cell_type": "code",
   "execution_count": 82,
   "metadata": {
    "collapsed": true
   },
   "outputs": [],
   "source": [
    "# ROC AUC Curve"
   ]
  },
  {
   "cell_type": "code",
   "execution_count": 81,
   "metadata": {},
   "outputs": [
    {
     "name": "stdout",
     "output_type": "stream",
     "text": [
      "(15000, 3540)\n",
      "[ 0.00129387  0.00129387  0.00129387  0.00129387  0.00129387  0.00129387\n",
      "  0.00129387  0.00129387  0.00129387  0.00129387  0.00129387  0.00129387\n",
      "  0.00129387  0.00129387  0.00129387  0.00129387  0.00129387  0.00129387\n",
      "  0.00129387  0.00129387]\n",
      "(15000,)\n"
     ]
    },
    {
     "data": {
      "text/plain": [
       "0.59999234967428328"
      ]
     },
     "execution_count": 81,
     "metadata": {},
     "output_type": "execute_result"
    }
   ],
   "source": [
    "from sklearn.metrics import roc_auc_score\n",
    "print(X.T.iloc[15000:,:].shape)\n",
    "y_score = clf.predict_proba(X.T.iloc[15000:,:])[:,1]\n",
    "print(y_score[-20:])\n",
    "print(y_score.shape)\n",
    "\n",
    "\n",
    "roc_auc_score(labels['label'][X.columns][15000:], y_score)\n"
   ]
  },
  {
   "cell_type": "code",
   "execution_count": 83,
   "metadata": {},
   "outputs": [
    {
     "data": {
      "text/plain": [
       "3042"
      ]
     },
     "execution_count": 83,
     "metadata": {},
     "output_type": "execute_result"
    }
   ],
   "source": [
    "np.sum(np.abs(clf.predict(X.T.iloc[:15000,:])))"
   ]
  },
  {
   "cell_type": "markdown",
   "metadata": {},
   "source": [
    "Let's use the low dimensional features."
   ]
  },
  {
   "cell_type": "code",
   "execution_count": 60,
   "metadata": {},
   "outputs": [
    {
     "data": {
      "text/plain": [
       "RandomForestClassifier(bootstrap=True, class_weight=None, criterion='gini',\n",
       "            max_depth=10, max_features='auto', max_leaf_nodes=None,\n",
       "            min_impurity_decrease=0.0, min_impurity_split=None,\n",
       "            min_samples_leaf=1, min_samples_split=2,\n",
       "            min_weight_fraction_leaf=0.0, n_estimators=10, n_jobs=1,\n",
       "            oob_score=False, random_state=0, verbose=0, warm_start=False)"
      ]
     },
     "execution_count": 60,
     "metadata": {},
     "output_type": "execute_result"
    }
   ],
   "source": [
    "clf = RandomForestClassifier(max_depth=10, random_state=0)\n",
    "clf.fit(X_transformed[:15000,:], np.array(labels['label'][X.columns][:15000]))"
   ]
  },
  {
   "cell_type": "code",
   "execution_count": 61,
   "metadata": {},
   "outputs": [
    {
     "data": {
      "text/plain": [
       "(20000, 30)"
      ]
     },
     "execution_count": 61,
     "metadata": {},
     "output_type": "execute_result"
    }
   ],
   "source": [
    "X_transformed.shape"
   ]
  },
  {
   "cell_type": "code",
   "execution_count": null,
   "metadata": {
    "collapsed": true
   },
   "outputs": [],
   "source": []
  },
  {
   "cell_type": "code",
   "execution_count": 69,
   "metadata": {},
   "outputs": [
    {
     "name": "stdout",
     "output_type": "stream",
     "text": [
      "Accuracy on the train dataset is 0.888933333333\n"
     ]
    }
   ],
   "source": [
    "train_accuracy = 1 - np.sum(np.abs(clf.predict(X_transformed[:15000,:]) - labels['label'][X.columns][:15000]))/15000.\n",
    "print('Accuracy on the train dataset is '+ str(train_accuracy))"
   ]
  },
  {
   "cell_type": "code",
   "execution_count": 71,
   "metadata": {},
   "outputs": [
    {
     "name": "stdout",
     "output_type": "stream",
     "text": [
      "Accuracy on the test dataset is 0.7724\n"
     ]
    }
   ],
   "source": [
    "test_accuracy = 1 - np.sum(np.abs(clf.predict(X_transformed[15000:,:]) - labels['label'][X.columns][15000:20000]))/5000.\n",
    "print('Accuracy on the test dataset is '+ str(test_accuracy))"
   ]
  },
  {
   "cell_type": "code",
   "execution_count": null,
   "metadata": {},
   "outputs": [],
   "source": []
  },
  {
   "cell_type": "markdown",
   "metadata": {
    "collapsed": true
   },
   "source": [
    "Extra:\n",
    "\n",
    "randomly generate the subsamples.\n",
    "\n",
    "true cross validation\n",
    "\n",
    "Time shifting\n",
    "\n",
    "Equalize spectrograms\n"
   ]
  },
  {
   "cell_type": "markdown",
   "metadata": {},
   "source": [
    "Exercise:\n",
    "Try a different classifier: gradient boosting, SVM"
   ]
  },
  {
   "cell_type": "markdown",
   "metadata": {},
   "source": [
    "## Large Data Processing"
   ]
  },
  {
   "cell_type": "markdown",
   "metadata": {},
   "source": [
    "What if we have many many such files???"
   ]
  },
  {
   "cell_type": "markdown",
   "metadata": {},
   "source": [
    "* We can speed up the computation of the spectrograms by parallelizing this step by file.\n",
    "* We will end up with a humongous features x samples array on which to run PCA.\n",
    "* If we can load this array in RAM, we can apply randomized PCA on it.\n",
    "* If not we can use dask to perform the PCA (SVD)"
   ]
  },
  {
   "cell_type": "code",
   "execution_count": 36,
   "metadata": {
    "collapsed": true
   },
   "outputs": [],
   "source": [
    "# put everything in one function\n",
    "def process_file(filename):\n",
    "    aiff = aifc.open(filename,'r')\n",
    "    whale_strSig = aiff.readframes(aiff.getnframes())\n",
    "    whale_array = np.fromstring(whale_strSig, np.short).byteswap()\n",
    "    P, freqs, bins = mlab.specgram(whale_array, **params)\n",
    "    return(P.ravel())"
   ]
  },
  {
   "cell_type": "code",
   "execution_count": 37,
   "metadata": {
    "collapsed": true
   },
   "outputs": [],
   "source": [
    "from dask import delayed\n",
    "\n",
    "import dask.array as da"
   ]
  },
  {
   "cell_type": "code",
   "execution_count": 49,
   "metadata": {
    "collapsed": true
   },
   "outputs": [],
   "source": [
    "process_file_dask = delayed(process_file)\n",
    "# create delayed evaluations\n",
    "lazy_values = [process_file_dask(filename) for filename in train_filenames]\n",
    "# create a list of dask arrays\n",
    "arrays = [da.from_delayed(lazy_value, shape=(7621,), dtype='float64') for lazy_value in lazy_values]"
   ]
  },
  {
   "cell_type": "code",
   "execution_count": 50,
   "metadata": {
    "collapsed": true
   },
   "outputs": [],
   "source": [
    "arrays[0].dtype\n",
    "stack = da.stack(arrays, axis=0)"
   ]
  },
  {
   "cell_type": "code",
   "execution_count": 52,
   "metadata": {},
   "outputs": [
    {
     "data": {
      "text/plain": [
       "dask.array<stack-0..., shape=(30000, 7621), dtype=float64, chunksize=(1, 7621)>"
      ]
     },
     "execution_count": 52,
     "metadata": {},
     "output_type": "execute_result"
    }
   ],
   "source": [
    "# dimensions\n",
    "stack"
   ]
  },
  {
   "cell_type": "code",
   "execution_count": 54,
   "metadata": {
    "collapsed": true
   },
   "outputs": [],
   "source": [
    "u, s, vt = da.linalg.svd(stack)"
   ]
  },
  {
   "cell_type": "code",
   "execution_count": 73,
   "metadata": {
    "collapsed": true
   },
   "outputs": [],
   "source": [
    "# s.compute()"
   ]
  },
  {
   "cell_type": "code",
   "execution_count": 39,
   "metadata": {},
   "outputs": [
    {
     "ename": "AttributeError",
     "evalue": "'list' object has no attribute 'shape'",
     "output_type": "error",
     "traceback": [
      "\u001b[1;31m---------------------------------------------------------------------------\u001b[0m",
      "\u001b[1;31mAttributeError\u001b[0m                            Traceback (most recent call last)",
      "\u001b[1;32m<ipython-input-39-10507ebd05dd>\u001b[0m in \u001b[0;36m<module>\u001b[1;34m()\u001b[0m\n\u001b[1;32m----> 1\u001b[1;33m \u001b[0marrays\u001b[0m\u001b[1;33m.\u001b[0m\u001b[0mshape\u001b[0m\u001b[1;33m\u001b[0m\u001b[0m\n\u001b[0m",
      "\u001b[1;31mAttributeError\u001b[0m: 'list' object has no attribute 'shape'"
     ]
    }
   ],
   "source": [
    "arrays.shape"
   ]
  },
  {
   "cell_type": "code",
   "execution_count": null,
   "metadata": {
    "collapsed": true
   },
   "outputs": [],
   "source": []
  }
 ],
 "metadata": {
  "anaconda-cloud": {},
  "kernelspec": {
   "display_name": "Python [Root]",
   "language": "python",
   "name": "Python [Root]"
  },
  "language_info": {
   "codemirror_mode": {
    "name": "ipython",
    "version": 3
   },
   "file_extension": ".py",
   "mimetype": "text/x-python",
   "name": "python",
   "nbconvert_exporter": "python",
   "pygments_lexer": "ipython3",
   "version": "3.5.1"
  }
 },
 "nbformat": 4,
 "nbformat_minor": 2
}
